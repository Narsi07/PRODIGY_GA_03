{
  "nbformat": 4,
  "nbformat_minor": 0,
  "metadata": {
    "colab": {
      "provenance": [],
      "gpuType": "T4",
      "mount_file_id": "1H6of66kKmlY4RhIKMQmaeC4yg45olQ9h",
      "authorship_tag": "ABX9TyMKlSAl5AesOq3tjxXuSGEj",
      "include_colab_link": true
    },
    "kernelspec": {
      "name": "python3",
      "display_name": "Python 3"
    },
    "language_info": {
      "name": "python"
    },
    "accelerator": "GPU"
  },
  "cells": [
    {
      "cell_type": "markdown",
      "metadata": {
        "id": "view-in-github",
        "colab_type": "text"
      },
      "source": [
        "<a href=\"https://colab.research.google.com/github/Narsi07/PRODIGY_GA_03/blob/main/Task-3.ipynb\" target=\"_parent\"><img src=\"https://colab.research.google.com/assets/colab-badge.svg\" alt=\"Open In Colab\"/></a>"
      ]
    },
    {
      "cell_type": "code",
      "source": [
        "#install dependencies\n",
        "!pip install markovify"
      ],
      "metadata": {
        "colab": {
          "base_uri": "https://localhost:8080/"
        },
        "id": "w1DlMWGNeOT1",
        "outputId": "767eafbe-a09e-42a5-917f-b2e9f8c31935"
      },
      "execution_count": null,
      "outputs": [
        {
          "output_type": "stream",
          "name": "stdout",
          "text": [
            "Collecting markovify\n",
            "  Downloading markovify-0.9.4-py3-none-any.whl.metadata (23 kB)\n",
            "Collecting unidecode (from markovify)\n",
            "  Downloading Unidecode-1.4.0-py3-none-any.whl.metadata (13 kB)\n",
            "Downloading markovify-0.9.4-py3-none-any.whl (19 kB)\n",
            "Downloading Unidecode-1.4.0-py3-none-any.whl (235 kB)\n",
            "\u001b[2K   \u001b[90m━━━━━━━━━━━━━━━━━━━━━━━━━━━━━━━━━━━━━━━━\u001b[0m \u001b[32m235.8/235.8 kB\u001b[0m \u001b[31m6.1 MB/s\u001b[0m eta \u001b[36m0:00:00\u001b[0m\n",
            "\u001b[?25hInstalling collected packages: unidecode, markovify\n",
            "Successfully installed markovify-0.9.4 unidecode-1.4.0\n"
          ]
        }
      ]
    },
    {
      "cell_type": "code",
      "source": [
        "#importing libraries\n",
        "import pandas as pd\n",
        "import markovify"
      ],
      "metadata": {
        "id": "EqZZvHorfVL4"
      },
      "execution_count": null,
      "outputs": []
    },
    {
      "cell_type": "code",
      "source": [
        "# Read text file where each line is a headline\n",
        "with open('/content/drive/MyDrive/Dataset/sonnets.txt', 'r', encoding='utf-8') as file:\n",
        "    lines = file.readlines()\n",
        "\n",
        "# Remove any trailing newlines or whitespace\n",
        "headlines = [line.strip() for line in lines]\n",
        "\n",
        "# Preview first 5 headlines\n",
        "for line in headlines[:5]:\n",
        "    print(line)\n"
      ],
      "metadata": {
        "colab": {
          "base_uri": "https://localhost:8080/"
        },
        "id": "YrtST5VLfY5h",
        "outputId": "f4418e21-168f-4dc1-d2f5-fe3722881d1c"
      },
      "execution_count": null,
      "outputs": [
        {
          "output_type": "stream",
          "name": "stdout",
          "text": [
            "\n",
            "From fairest creatures we desire increase,\n",
            "That thereby beauty's rose might never die,\n",
            "But as the riper should by time decease,\n",
            "His tender heir might bear his memory:\n"
          ]
        }
      ]
    },
    {
      "cell_type": "code",
      "source": [
        "text_model = markovify.NewlineText(lines,state_size=2)"
      ],
      "metadata": {
        "id": "3kfjDa6DggYW"
      },
      "execution_count": null,
      "outputs": []
    },
    {
      "cell_type": "code",
      "source": [
        "for i in range(5):\n",
        "  print(text_model.make_sentence())"
      ],
      "metadata": {
        "colab": {
          "base_uri": "https://localhost:8080/"
        },
        "id": "S3hWNjCcgtNK",
        "outputId": "fd122a4a-cdc0-440e-e79d-afc29b9f296d"
      },
      "execution_count": null,
      "outputs": [
        {
          "output_type": "stream",
          "name": "stdout",
          "text": [
            "When my love well knows\n",
            "Within the gentle closure of my sinful earth,\n",
            "Excusing thy sins enclose.\n",
            "Giving him aid, my verse shall stand.\n",
            "Kind is my sin, and thy dear love were but sweet, but figures of delight,\n"
          ]
        }
      ]
    },
    {
      "cell_type": "code",
      "source": [
        "text_model1 = markovify.NewlineText(lines,state_size = 2)\n",
        "text_model2 = markovify.NewlineText(lines,state_size = 2)"
      ],
      "metadata": {
        "id": "3T_jtSDog0XU"
      },
      "execution_count": null,
      "outputs": []
    },
    {
      "cell_type": "code",
      "source": [
        "for i in range(5):\n",
        "    print(text_model1.make_sentence())"
      ],
      "metadata": {
        "colab": {
          "base_uri": "https://localhost:8080/"
        },
        "id": "mLkXMfdNhNyf",
        "outputId": "f956c8ad-c3a0-4ddf-cc4f-c9b4d53344ca"
      },
      "execution_count": null,
      "outputs": [
        {
          "output_type": "stream",
          "name": "stdout",
          "text": [
            "To new-found methods, and to flatterer stopped are.\n",
            "Rough winds do shake the darling buds of marjoram had stol'n from mine eye,\n",
            "Cannot dispraise, but in the world may see my pleasure:\n",
            " This wish I were renew'd;\n",
            " Take heed, dear heart, of this fair gift in me behold\n"
          ]
        }
      ]
    },
    {
      "cell_type": "code",
      "source": [
        "#text generation using markov chains\n",
        "for i in range(10):\n",
        "    temp = text_model2.make_sentence()\n",
        "    if temp is not None:\n",
        "        print(temp)"
      ],
      "metadata": {
        "colab": {
          "base_uri": "https://localhost:8080/"
        },
        "id": "C0pgTwNohSuR",
        "outputId": "864b43bf-f3a2-4f62-89cd-132a60f02fca"
      },
      "execution_count": null,
      "outputs": [
        {
          "output_type": "stream",
          "name": "stdout",
          "text": [
            "Hang on such thorns, and silver fountains mud:\n",
            "What hast thou then more than I have no leisure taken\n",
            "A god in love, to whom in vassalage\n",
            "And to this store:\n",
            "Within the knowledge of mine own love's strength seem to decay,\n",
            "Is but the child of yours alive that time,\n",
            "Deserves the travail of a former sight.\n",
            " In sleep a king, but waking no such roses see I in my mind;\n",
            "Crowning the present, doubting of the shore, where two contracted new\n",
            "Thus far for love, and love are still my argument;\n"
          ]
        }
      ]
    }
  ]
}